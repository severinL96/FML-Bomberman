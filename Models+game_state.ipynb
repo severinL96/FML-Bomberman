{
 "cells": [
  {
   "cell_type": "code",
   "execution_count": 2,
   "metadata": {},
   "outputs": [],
   "source": [
    "import numpy as np"
   ]
  },
  {
   "cell_type": "code",
   "execution_count": null,
   "metadata": {},
   "outputs": [],
   "source": [
    "\n"
   ]
  },
  {
   "cell_type": "code",
   "execution_count": 79,
   "metadata": {},
   "outputs": [],
   "source": [
    "game_state ={\n",
    "    'round':1,\n",
    "    'step':1,\n",
    "    'field':np.zeros((field_size,field_size)),\n",
    "    'bombs':[((2,3),1),((3,3),3)],\n",
    "    'explosion_map':np.zeros((field_size,field_size)),\n",
    "    'coins':[(1,1),(2,1)],\n",
    "    'self':('PyBomb',3,True,(1,3)), #name,score, Bomb possible, coordinates\n",
    "    'others':[('enemy_0',3,True,(2,3)),('enemy_1',3,True,(3,3)),('enemy_2',3,False,(1,3))]\n",
    "}"
   ]
  },
  {
   "cell_type": "code",
   "execution_count": 128,
   "metadata": {},
   "outputs": [],
   "source": [
    "def reshape_game_state(game_state,field_size, vector=True):\n",
    "    '''\n",
    "    INPUT: game_state dict, size of field, vector = True\n",
    "    OUTPUT: all relevant game info, in the shape of [field_size,field_size] or as stacked vector of length 5*field_size**2\n",
    "    \n",
    "    Function reshapes all information in dictionary \n",
    "    returns info in the form of maps or as unravelled stacked vector\n",
    "    '''\n",
    "    #extract all data from coin, bomb and players to maps\n",
    "    coin_map = np.zeros((field_size,field_size))\n",
    "    for coin_coord in game_state['coins']:\n",
    "        coin_map[coin_coord]=1\n",
    "        \n",
    "    bomb_map = np.zeros((field_size,field_size))\n",
    "    for bomb_coord,bomb_time in game_state['bombs']:\n",
    "        bomb_map[bomb_coord]=bomb_time\n",
    "        \n",
    "    player_map = np.zeros((field_size,field_size))\n",
    "    for name,score,bomb,coord in game_state['others']:\n",
    "        if bomb:\n",
    "            player_map[coord]= -3\n",
    "        else:\n",
    "            player_map[coord]=-1\n",
    "    name,score,bomb,coord = game_state['self']\n",
    "    if bomb:\n",
    "        player_map[coord]= 3\n",
    "    else:\n",
    "        player_map[coord]= 1\n",
    "        \n",
    "    #join all maps\n",
    "    game_info = np.stack([game_state['field'],game_state['explosion_map'],coin_map,bomb_map,player_map])\n",
    "    if vector:\n",
    "        game_info = game_info.reshape(-1)\n",
    "    \n",
    "    return game_info"
   ]
  },
  {
   "cell_type": "code",
   "execution_count": 130,
   "metadata": {},
   "outputs": [
    {
     "data": {
      "text/plain": [
       "array([[[ 0.,  0.,  0.,  0.,  0.],\n",
       "        [ 0.,  0.,  0.,  0.,  0.],\n",
       "        [ 0.,  0.,  0.,  0.,  0.],\n",
       "        [ 0.,  0.,  0.,  0.,  0.],\n",
       "        [ 0.,  0.,  0.,  0.,  0.]],\n",
       "\n",
       "       [[ 0.,  0.,  0.,  0.,  0.],\n",
       "        [ 0.,  0.,  0.,  0.,  0.],\n",
       "        [ 0.,  0.,  0.,  0.,  0.],\n",
       "        [ 0.,  0.,  0.,  0.,  0.],\n",
       "        [ 0.,  0.,  0.,  0.,  0.]],\n",
       "\n",
       "       [[ 0.,  0.,  0.,  0.,  0.],\n",
       "        [ 0.,  1.,  0.,  0.,  0.],\n",
       "        [ 0.,  1.,  0.,  0.,  0.],\n",
       "        [ 0.,  0.,  0.,  0.,  0.],\n",
       "        [ 0.,  0.,  0.,  0.,  0.]],\n",
       "\n",
       "       [[ 0.,  0.,  0.,  0.,  0.],\n",
       "        [ 0.,  0.,  0.,  0.,  0.],\n",
       "        [ 0.,  0.,  0.,  1.,  0.],\n",
       "        [ 0.,  0.,  0.,  3.,  0.],\n",
       "        [ 0.,  0.,  0.,  0.,  0.]],\n",
       "\n",
       "       [[ 0.,  0.,  0.,  0.,  0.],\n",
       "        [ 0.,  0.,  0.,  3.,  0.],\n",
       "        [ 0.,  0.,  0., -3.,  0.],\n",
       "        [ 0.,  0.,  0., -3.,  0.],\n",
       "        [ 0.,  0.,  0.,  0.,  0.]]])"
      ]
     },
     "execution_count": 130,
     "metadata": {},
     "output_type": "execute_result"
    }
   ],
   "source": [
    "reshape_game_state(game_state,5, vector=False)"
   ]
  },
  {
   "cell_type": "code",
   "execution_count": 131,
   "metadata": {},
   "outputs": [],
   "source": [
    "import tensorflow as tf\n",
    "from tensorflow.keras.layers import (Input,Dense,Lambda)\n",
    "from tensorflow.keras.models import Model\n",
    "from tensorflow.keras.optimizers import Adam\n",
    "\n"
   ]
  },
  {
   "cell_type": "code",
   "execution_count": 133,
   "metadata": {},
   "outputs": [],
   "source": [
    "\n",
    "def build_q_network(n_actions, learning_rate=0.00001, input_shape=(125), history_length=4):\n",
    "    \"\"\"Builds a DQN as a Keras model\n",
    "    \n",
    "    Arguments:\n",
    "        n_actions: Number of possible action the agent can take\n",
    "        learning_rate: Learning rate\n",
    "        input_shape: Shape of the preprocessed frame the model sees\n",
    "        history_length: Number of historical frames the agent can see\n",
    "        \n",
    "    Returns:\n",
    "        A compiled Keras model\n",
    "    \"\"\"\n",
    "    model_input = Input(shape=(input_shape, history_length))\n",
    "\n",
    "    x = Dense(128, activation='relu')(x)\n",
    "    x = Dense(64, activation='relu')(x)\n",
    "    x = Dense(32, activation='relu')(x)\n",
    "    x = Dense(16, activation='relu')(x)\n",
    "    \n",
    "    q_vals = Dense(n_actions,activation='softmax')(x)\n",
    "\n",
    "    # Build model\n",
    "    model = Model(model_input, q_vals)\n",
    "    model.compile(Adam(learning_rate), loss=tf.keras.losses.Huber())\n",
    "\n",
    "    return model"
   ]
  },
  {
   "cell_type": "code",
   "execution_count": 135,
   "metadata": {},
   "outputs": [],
   "source": [
    "\n",
    "def build_q_network(n_actions, learning_rate=0.00001, input_shape=(125), history_length=4):\n",
    "    \"\"\"Builds a DQN as a Keras model\n",
    "    \n",
    "    Arguments:\n",
    "        n_actions: Number of possible action the agent can take\n",
    "        learning_rate: Learning rate\n",
    "        input_shape: Shape of the preprocessed frame the model sees\n",
    "        history_length: Number of historical frames the agent can see\n",
    "        \n",
    "    Returns:\n",
    "        A compiled Keras model\n",
    "    \"\"\"\n",
    "    model_input = Input(shape=(input_shape, history_length))\n",
    "\n",
    "    x = Dense(128, activation='relu')(x)\n",
    "    x = Dense(64, activation='relu')(x)\n",
    "    x = Dense(32, activation='relu')(x)\n",
    "    x = Dense(16, activation='relu')(x)\n",
    "    \n",
    "    value = Dense(1)(x)\n",
    "    \n",
    "    action = Dense(n_actions,activation='softmax')(x)\n",
    "\n",
    "    Q = value + tf.subtract(actions, tf.reduce_mean(actions, axis=1, keepdims=True))\n",
    "    # Build model\n",
    "    model = Model(model_input, q_vals)\n",
    "    model.compile(Adam(learning_rate), loss=tf.keras.losses.Huber())\n",
    "\n",
    "    return model"
   ]
  },
  {
   "cell_type": "code",
   "execution_count": null,
   "metadata": {},
   "outputs": [],
   "source": []
  }
 ],
 "metadata": {
  "kernelspec": {
   "display_name": "Python 3",
   "language": "python",
   "name": "python3"
  },
  "language_info": {
   "codemirror_mode": {
    "name": "ipython",
    "version": 3
   },
   "file_extension": ".py",
   "mimetype": "text/x-python",
   "name": "python",
   "nbconvert_exporter": "python",
   "pygments_lexer": "ipython3",
   "version": "3.7.6"
  }
 },
 "nbformat": 4,
 "nbformat_minor": 4
}
