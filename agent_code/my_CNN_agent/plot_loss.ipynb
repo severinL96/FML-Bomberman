{
 "cells": [
  {
   "cell_type": "code",
   "execution_count": 50,
   "metadata": {},
   "outputs": [
    {
     "data": {
      "image/png": "[encoded data removed]",
      "text/plain": [
       "<Figure size 576x360 with 1 Axes>"
      ]
     },
     "metadata": {
      "needs_background": "light"
     },
     "output_type": "display_data"
    }
   ],
   "source": [
    "import pickle\n",
    "import matplotlib.pyplot as plt\n",
    "import numpy as np\n",
    "LOSS = open(\"saved_models/CNN_first_try/loss.txt\",  'r' )\n",
    "losses = []\n",
    "for loss in LOSS.readlines():\n",
    "    loss = loss.rstrip('\\n')\n",
    "    try:\n",
    "        loss = float(loss)\n",
    "        losses.append(loss)\n",
    "    except:\n",
    "        pass\n",
    "    \n",
    "\n",
    "    \n",
    "epoch_count = range(1 ,len(losses)+1)\n",
    "\n",
    "\n",
    "#losses = losses[-1000:]\n",
    "#epoch_count = epoch_count[-1000:]\n",
    "plt.figure(figsize=(8,5))\n",
    "coefficients2 = np.polyfit(epoch_count, losses ,4)\n",
    "poly = np.poly1d(coefficients2)\n",
    "new_y = poly(epoch_count)\n",
    "plt.xlabel('#Rounds',  fontsize=15)\n",
    "plt.ylabel('Loss',  fontsize=15)\n",
    "plt.plot(epoch_count, losses)\n",
    "#plt.plot(epoch_count,  new_y)\n",
    "plt.grid(True,  which=\"both\")\n",
    "plt.title('loss CNN - simple architecture')\n",
    "#plt.yscale('log')\n",
    "#plt.ylim((0 ,5))\n",
    "plt.Figure()\n",
    "plt.savefig('the_agent_gets_stuck_in_a_bad_local_minimum.png')"
   ]
  },
  {
   "cell_type": "code",
   "execution_count": 590,
   "metadata": {},
   "outputs": [],
   "source": [
    "def matprint(mat, fmt=\"g\"):\n",
    "    col_maxes = [max([len((\"{:\"+fmt+\"}\").format(x)) for x in col]) for col in mat.T]\n",
    "    for x in mat:\n",
    "        for i, y in enumerate(x):\n",
    "            print((\"{:\"+str(col_maxes[i])+fmt+\"}\").format(y), end=\"  \")\n",
    "        print(\"\")"
   ]
  },
  {
   "cell_type": "code",
   "execution_count": 1,
   "metadata": {},
   "outputs": [],
   "source": [
    "import numpy as np\n",
    "import matplotlib.pyplot as plt"
   ]
  },
  {
   "cell_type": "code",
   "execution_count": 2,
   "metadata": {},
   "outputs": [],
   "source": [
    "x1=np.array([[0.4,0.4,0.4,0.4,0.4,0.4,0.4,0.4,0.4,0.4,0.4,0.4,0.4,0.4,0.4,0.4,0.4]\n",
    ",[0.4,1.,0.,0.,0.,0.,0.,0.2,0.,0.,0.,0.,0.,0.2,0.,0.,0.4]\n",
    ",[0.4,0.,0.4,0.,0.4,0.2,0.4,0.,0.4,0.2,0.4,0.2,0.4,0.,0.4,0.,0.4]\n",
    ",[0.4,0.,0.,0.2,0.,0.,0.,0.,0.2,0.2,0.,0.,0.,0.2,0.2,0.,0.4]\n",
    ",[0.4,0.,0.4,0.,0.4,0.,0.4,0.,0.4,0.,0.4,0.,0.4,0.,0.4,0.,0.4]\n",
    ",[0.4,0.,0.,0.,0.,0.,0.,0.,0.2,0.,0.,0.,0.,0.,0.,0.,0.4]\n",
    ",[0.4,0.,0.4,0.,0.4,0.,0.4,0.,0.4,0.,0.4,0.,0.4,0.2,0.4,0.2,0.4]\n",
    ",[0.4,0.,0.,0.,0.,0.2,0.,0.,0.,0.,0.,0.,0.,0.2,0.,0.,0.4]\n",
    ",[0.4,0.,0.4,0.,0.4,0.,0.4,0.,0.4,0.,0.4,0.,0.4,0.,0.4,0.,0.4]\n",
    ",[0.4,0.,0.2,0.,0.,0.,0.6,0.,0.,0.,0.,0.,0.,0.,0.2,0.,0.4]\n",
    ",[0.4,0.,0.4,0.,0.4,0.,0.4,0.,0.4,0.,0.4,0.,0.4,0.,0.4,0.,0.4]\n",
    ",[0.4,0.2,0.,0.,0.,0.,0.2,0.,0.,0.,0.,0.,0.,0.,0.2,0.,0.4]\n",
    ",[0.4,0.,0.4,0.2,0.4,0.,0.4,0.,0.4,0.,0.4,0.,0.4,0.,0.4,0.,0.4]\n",
    ",[0.4,0.,0.,0.2,0.,0.,0.,0.,0.,0.2,0.,0.,0.2,0.2,0.,0.2,0.4]\n",
    ",[0.4,0.,0.4,0.,0.4,0.,0.4,0.,0.4,0.2,0.4,0.,0.4,0.,0.4,0.,0.4]\n",
    ",[0.4,0.,0.,0.,0.,0.,0.,0.,0.,0.,0.,0.,0.,0.,0.,0.,0.4]\n",
    ",[0.4,0.4,0.4,0.4,0.4,0.4,0.4,0.4,0.4,0.4,0.4,0.4,0.4,0.4,0.4,0.4,0.4]])\n",
    "\n",
    "x2=np.array([[0.4,0.4,0.4,0.4,0.4,0.4,0.4,0.4,0.4,0.4,0.4,0.4,0.4,0.4,0.4,0.4,0.4]\n",
    ",[0.4,0,0.,0.,0.,0.,0.,0.2,0.,0.,0.,0.,0.,0.2,0.,0.,0.4]\n",
    ",[0.4,0.,0.4,0.,0.4,0.2,0.4,0.,0.4,0.2,0.4,0.2,0.4,0.,0.4,0.,0.4]\n",
    ",[0.4,0.,0.,0.2,0.,0.,0.,0.,0.2,0.2,0.,0.,0.,0.2,0.2,0.,0.4]\n",
    ",[0.4,0.,0.4,0.,0.4,0.,0.4,0.,0.4,0.,0.4,0.,0.4,0.,0.4,0.,0.4]\n",
    ",[0.4,0.,0.,0.,0.,0.,0.,0.,0.2,0.,0.,0.,0.,0.,0.,0.,0.4]\n",
    ",[0.4,0.,0.4,0.,0.4,0.,0.4,0.,0.4,0.,0.4,0.,0.4,0.2,0.4,0.2,0.4]\n",
    ",[0.4,0.,0.,0.,0.,0.2,0.,0.,0.,0.,0.,0.,0.,0.2,0.,0.,0.4]\n",
    ",[0.4,0.,0.4,0.,0.4,0.,0.4,0.,0.4,0.,0.4,0.,0.4,0.,0.4,0.,0.4]\n",
    ",[0.4,0.,0.2,0.,0.,0.,0.6,0.,0.,0.,0.,0.,0.,0.,0.2,0.,0.4]\n",
    ",[0.4,0.,0.4,0.,0.4,0.,0.4,0.,0.4,0.,0.4,0.,0.4,0.,0.4,0.,0.4]\n",
    ",[0.4,0.2,0.,0.,0.,0.,0.2,0.,0.,0.,0.,0.,0.,0.,0.2,0.,0.4]\n",
    ",[0.4,0.,0.4,0.2,0.4,0.,0.4,0.,0.4,0.,0.4,0.,0.4,0.,0.4,0.,0.4]\n",
    ",[0.4,0.,0.,0.2,0.,0.,0.,0.,0.,0.2,0.,0.,0.2,0.2,0.,0.2,0.4]\n",
    ",[0.4,0.,0.4,0.,0.4,0.,0.4,0.,0.4,0.2,0.4,0.,0.4,0.,0.4,0.,0.4]\n",
    ",[0.4,0.,0.,0.,0.,0.,0.,0.,0.,0.,0.,0.,0.,0.,0.,1,0.4]\n",
    ",[0.4,0.4,0.4,0.4,0.4,0.4,0.4,0.4,0.4,0.4,0.4,0.4,0.4,0.4,0.4,0.4,0.4]])\n",
    "\n",
    "x3=np.array([[0.4,0.4,0.4,0.4,0.4,0.4,0.4,0.4,0.4,0.4,0.4,0.4,0.4,0.4,0.4,0.4,0.4]\n",
    ",[0.4,0,0.,0.,0.,0.,0.,0.2,0.,0.,0.,0.,0.,0.2,0.,1,0.4]\n",
    ",[0.4,0.,0.4,0.,0.4,0.2,0.4,0.,0.4,0.2,0.4,0.2,0.4,0.,0.4,0.,0.4]\n",
    ",[0.4,0.,0.,0.2,0.,0.,0.,0.,0.2,0.2,0.,0.,0.,0.2,0.2,0.,0.4]\n",
    ",[0.4,0.,0.4,0.,0.4,0.,0.4,0.,0.4,0.,0.4,0.,0.4,0.,0.4,0.,0.4]\n",
    ",[0.4,0.,0.,0.,0.,0.,0.,0.,0.2,0.,0.,0.,0.,0.,0.,0.,0.4]\n",
    ",[0.4,0.,0.4,0.,0.4,0.,0.4,0.,0.4,0.,0.4,0.,0.4,0.2,0.4,0.2,0.4]\n",
    ",[0.4,0.,0.,0.,0.,0.2,0.,0.,0.,0.,0.,0.,0.,0.2,0.,0.,0.4]\n",
    ",[0.4,0.,0.4,0.,0.4,0.,0.4,0.,0.4,0.,0.4,0.,0.4,0.,0.4,0.,0.4]\n",
    ",[0.4,0.,0.2,0.,0.,0.,0.6,0.,0.,0.,0.,0.,0.,0.,0.2,0.,0.4]\n",
    ",[0.4,0.,0.4,0.,0.4,0.,0.4,0.,0.4,0.,0.4,0.,0.4,0.,0.4,0.,0.4]\n",
    ",[0.4,0.2,0.,0.,0.,0.,0.2,0.,0.,0.,0.,0.,0.,0.,0.2,0.,0.4]\n",
    ",[0.4,0.,0.4,0.2,0.4,0.,0.4,0.,0.4,0.,0.4,0.,0.4,0.,0.4,0.,0.4]\n",
    ",[0.4,0.,0.,0.2,0.,0.,0.,0.,0.,0.2,0.,0.,0.2,0.2,0.,0.2,0.4]\n",
    ",[0.4,0.,0.4,0.,0.4,0.,0.4,0.,0.4,0.2,0.4,0.,0.4,0.,0.4,0.,0.4]\n",
    ",[0.4,0.,0.,0.,0.,0.,0.,0.,0.,0.,0.,0.,0.,0.,0.,0,0.4]\n",
    ",[0.4,0.4,0.4,0.4,0.4,0.4,0.4,0.4,0.4,0.4,0.4,0.4,0.4,0.4,0.4,0.4,0.4]])\n",
    "\n",
    "x4=np.array([[0.4,0.4,0.4,0.4,0.4,0.4,0.4,0.4,0.4,0.4,0.4,0.4,0.4,0.4,0.4,0.4,0.4]\n",
    ",[0.4,0,0.,0.,0.,0.,0.,0.2,0.,0.,0.,0.,0.,0.2,0.,0.,0.4]\n",
    ",[0.4,0.,0.4,0.,0.4,0.2,0.4,0.,0.4,0.2,0.4,0.2,0.4,0.,0.4,0.,0.4]\n",
    ",[0.4,0.,0.,0.2,0.,0.,0.,0.,0.2,0.2,0.,0.,0.,0.2,0.2,0.,0.4]\n",
    ",[0.4,0.,0.4,0.,0.4,0.,0.4,0.,0.4,0.,0.4,0.,0.4,0.,0.4,0.,0.4]\n",
    ",[0.4,0.,0.,0.,0.,0.,0.,0.,0.2,0.,0.,0.,0.,0.,0.,0.,0.4]\n",
    ",[0.4,0.,0.4,0.,0.4,0.,0.4,0.,0.4,0.,0.4,0.,0.4,0.2,0.4,0.2,0.4]\n",
    ",[0.4,0.,0.,0.,0.,0.2,0.,0.,0.,0.,0.,0.,0.,0.2,0.,0.,0.4]\n",
    ",[0.4,0.,0.4,0.,0.4,0.,0.4,0.,0.4,0.,0.4,0.,0.4,0.,0.4,0.,0.4]\n",
    ",[0.4,0.,0.2,0.,0.,0.,0.6,0.,0.,0.,0.,0.,0.,0.,0.2,0,0.4]\n",
    ",[0.4,0.,0.4,0.,0.4,0.,0.4,0.,0.4,0.,0.4,0.,0.4,0.,0.4,0.,0.4]\n",
    ",[0.4,0.2,0.,0.,0.,0.,0.2,0.,0.,0.,0.,0.,0.,0.,0.2,0.,0.4]\n",
    ",[0.4,0.,0.4,0.2,0.4,0.,0.4,0.,0.4,0.,0.4,0.,0.4,0.,0.4,0.,0.4]\n",
    ",[0.4,0.,0.,0.2,0.,0.,0.,0.,0.,0.2,0.,0.,0.2,0.2,0.,0.2,0.4]\n",
    ",[0.4,0.,0.4,0.,0.4,0.,0.4,0.,0.4,0.2,0.4,0.,0.4,0.,0.4,0.,0.4]\n",
    ",[0.4,1,0.,0.,0.,0.,0.,0.,0.,0.,0.,0.,0.,0.,0.,0.,0.4]\n",
    ",[0.4,0.4,0.4,0.4,0.4,0.4,0.4,0.4,0.4,0.4,0.4,0.4,0.4,0.4,0.4,0.4,0.4]])"
   ]
  },
  {
   "cell_type": "code",
   "execution_count": 3,
   "metadata": {},
   "outputs": [
    {
     "data": {
      "text/plain": [
       "Text(0.5, 1.0, 'x1')"
      ]
     },
     "execution_count": 3,
     "metadata": {},
     "output_type": "execute_result"
    },
    {
     "data": {
      "image/png": "[encoded data removed]",
      "text/plain": [
       "<Figure size 432x288 with 1 Axes>"
      ]
     },
     "metadata": {
      "needs_background": "light"
     },
     "output_type": "display_data"
    }
   ],
   "source": [
    "plt.imshow(x3)\n",
    "plt.axis('off')\n",
    "plt.title('x1')"
   ]
  },
  {
   "cell_type": "code",
   "execution_count": 4,
   "metadata": {},
   "outputs": [],
   "source": [
    "\n",
    "def build_q_network(learning_rate): \n",
    "    \"\"\"\n",
    "    Builds a deep neural net which predicts the Q values for all possible\n",
    "    actions given a state. The input should have the shape of the state\n",
    "    (which is 4 in CartPole), and the output should have the same shape as\n",
    "    the action space (which is 2 in CartPole) since we want 1 Q value per\n",
    "    possible action.\n",
    "    \n",
    "    :return: the Q network\n",
    "    \"\"\"\n",
    "    q_net = models.Sequential()\n",
    "\n",
    "    q_net.add(Conv2D(16, (5, 5), activation='sigmoid', input_shape=(17,17,1)))\n",
    "    q_net.add(MaxPooling2D((2, 2)))\n",
    "    q_net.add(Conv2D(32, (3, 3), activation='sigmoid'))\n",
    "    q_net.add(Flatten())\n",
    "    q_net.add(Dense(128, activation='sigmoid', kernel_initializer='he_uniform'))\n",
    "    q_net.add(Dense(64, activation='sigmoid', kernel_initializer='he_uniform'))\n",
    "    q_net.add(Dense(32, activation='sigmoid', kernel_initializer='he_uniform'))\n",
    "    q_net.add(Dense(6, activation='linear', kernel_initializer='he_uniform'))\n",
    "    \n",
    "    \n",
    "    q_net.compile(optimizer=Adam(learning_rate=learning_rate), loss=tf.keras.losses.Huber())\n",
    "    return q_net\n"
   ]
  },
  {
   "cell_type": "code",
   "execution_count": 5,
   "metadata": {},
   "outputs": [],
   "source": [
    "y1 = np.array([0,1,1,0,0,0])\n",
    "y1 = np.array([0,1,1,0,0,0])\n",
    "y1 = np.array([0,1,1,0,0,0])\n",
    "y2 = np.array([1,0,0,1,0,0])"
   ]
  },
  {
   "cell_type": "code",
   "execution_count": 7,
   "metadata": {},
   "outputs": [],
   "source": [
    "import tensorflow as tf\n",
    "from tensorflow.keras import models\n",
    "from tensorflow.keras.layers import Dense, Conv2D, MaxPooling2D, Flatten\n",
    "from tensorflow.keras.optimizers import Adam\n",
    "import numpy as np\n",
    "\n"
   ]
  },
  {
   "cell_type": "code",
   "execution_count": 16,
   "metadata": {},
   "outputs": [],
   "source": [
    "model = build_q_network(learning_rate = 0.0001)"
   ]
  },
  {
   "cell_type": "code",
   "execution_count": 17,
   "metadata": {},
   "outputs": [
    {
     "name": "stdout",
     "output_type": "stream",
     "text": [
      "[[ 0.79 -0.29  0.72 -1.05 -0.11  0.65]]\n",
      "[[ 0.79 -0.29  0.72 -1.05 -0.11  0.65]]\n",
      "[[ 0.79 -0.29  0.72 -1.05 -0.11  0.65]]\n",
      "[[ 0.79 -0.29  0.72 -1.05 -0.11  0.65]]\n"
     ]
    }
   ],
   "source": [
    "  for x in [x1,x2,x3,x4]:\n",
    "        a = np.expand_dims(np.expand_dims(x,axis=0),axis=-1)\n",
    "\n",
    "        pred = model(a).numpy()\n",
    "        print(np.round(pred,2))"
   ]
  },
  {
   "cell_type": "code",
   "execution_count": 12,
   "metadata": {},
   "outputs": [],
   "source": [
    "X = []\n",
    "Y= []\n",
    "for i in range(3):\n",
    "    X.append(x1)\n",
    "    X.append(x2)\n",
    "    Y.append(y1)\n",
    "    Y.append(y2)\n"
   ]
  },
  {
   "cell_type": "code",
   "execution_count": 13,
   "metadata": {},
   "outputs": [],
   "source": [
    "X = np.expand_dims(X,axis=-1)\n",
    "X = np.array(X)\n",
    "Y = np.array(Y)"
   ]
  },
  {
   "cell_type": "code",
   "execution_count": 21,
   "metadata": {},
   "outputs": [
    {
     "name": "stdout",
     "output_type": "stream",
     "text": [
      "(6, 17, 17, 1)\n",
      "\n",
      "(17, 17, 1)\n",
      "[[0 1 1 0 0 0]\n",
      " [1 0 0 1 0 0]\n",
      " [0 1 1 0 0 0]\n",
      " [1 0 0 1 0 0]\n",
      " [0 1 1 0 0 0]\n",
      " [1 0 0 1 0 0]]\n",
      "(6, 6)\n"
     ]
    }
   ],
   "source": [
    "print(X.shape)\n",
    "print(\"\")\n",
    "print(X[0].shape)\n",
    "\n",
    "print(Y)\n",
    "print(Y.shape)"
   ]
  },
  {
   "cell_type": "code",
   "execution_count": 18,
   "metadata": {},
   "outputs": [
    {
     "name": "stdout",
     "output_type": "stream",
     "text": [
      "0\n",
      "100\n",
      "200\n",
      "300\n",
      "400\n",
      "500\n",
      "600\n",
      "700\n",
      "800\n",
      "900\n"
     ]
    }
   ],
   "source": [
    "for i in range(1000):\n",
    "    if i %100 == 0:\n",
    "        print(i)\n",
    "    history = model.fit(X,Y,epochs = 10, verbose = 0)"
   ]
  },
  {
   "cell_type": "code",
   "execution_count": 19,
   "metadata": {},
   "outputs": [
    {
     "name": "stdout",
     "output_type": "stream",
     "text": [
      "[[-0.  1.  1. -0. -0. -0.]]\n",
      "[[ 1. -0.  0.  1. -0.  0.]]\n",
      "[[ 0.84  0.16  0.16  0.86 -0.   -0.01]]\n",
      "[[ 0.84  0.16  0.16  0.86 -0.   -0.01]]\n"
     ]
    }
   ],
   "source": [
    "  for x in [x1,x2,x3,x4]:\n",
    "        a = np.expand_dims(np.expand_dims(x,axis=0),axis=-1)\n",
    "\n",
    "        pred = model(a).numpy()\n",
    "        print(np.round(pred,2))"
   ]
  },
  {
   "cell_type": "code",
   "execution_count": 502,
   "metadata": {},
   "outputs": [
    {
     "name": "stdout",
     "output_type": "stream",
     "text": [
      "[0 3]\n"
     ]
    }
   ],
   "source": [
    "\n",
    "import numpy as np\n",
    "\n",
    "a=[23, 1, 5, 44]\n",
    "\n",
    "a = np.array(a)\n",
    "\n",
    "b = np.argsort(a)\n",
    "\n",
    "print(b[-2:])"
   ]
  },
  {
   "cell_type": "code",
   "execution_count": null,
   "metadata": {},
   "outputs": [],
   "source": []
  }
 ],
 "metadata": {
  "kernelspec": {
   "display_name": "Python 3",
   "language": "python",
   "name": "python3"
  },
  "language_info": {
   "codemirror_mode": {
    "name": "ipython",
    "version": 3
   },
   "file_extension": ".py",
   "mimetype": "text/x-python",
   "name": "python",
   "nbconvert_exporter": "python",
   "pygments_lexer": "ipython3",
   "version": "3.8.3"
  }
 },
 "nbformat": 4,
 "nbformat_minor": 4
}
