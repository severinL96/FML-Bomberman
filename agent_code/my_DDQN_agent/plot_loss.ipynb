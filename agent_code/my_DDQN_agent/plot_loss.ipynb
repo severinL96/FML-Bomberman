{
 "cells": [
  {
   "cell_type": "code",
   "execution_count": 3,
   "metadata": {},
   "outputs": [
    {
     "ename": "FileNotFoundError",
     "evalue": "[Errno 2] No such file or directory: 'saved_models/CNN_first_try/loss.txt'",
     "output_type": "error",
     "traceback": [
      "\u001b[0;31m---------------------------------------------------------------------------\u001b[0m",
      "\u001b[0;31mFileNotFoundError\u001b[0m                         Traceback (most recent call last)",
      "\u001b[0;32m<ipython-input-3-13704c26206a>\u001b[0m in \u001b[0;36m<module>\u001b[0;34m\u001b[0m\n\u001b[1;32m      4\u001b[0m \u001b[0;34m\u001b[0m\u001b[0m\n\u001b[1;32m      5\u001b[0m \u001b[0;34m\u001b[0m\u001b[0m\n\u001b[0;32m----> 6\u001b[0;31m \u001b[0mLOSS\u001b[0m \u001b[0;34m=\u001b[0m \u001b[0mopen\u001b[0m\u001b[0;34m(\u001b[0m\u001b[0;34m\"saved_models/CNN_first_try/loss.txt\"\u001b[0m\u001b[0;34m,\u001b[0m \u001b[0;34m'r'\u001b[0m\u001b[0;34m,\u001b[0m\u001b[0;34m)\u001b[0m\u001b[0;34m\u001b[0m\u001b[0;34m\u001b[0m\u001b[0m\n\u001b[0m\u001b[1;32m      7\u001b[0m \u001b[0;34m\u001b[0m\u001b[0m\n\u001b[1;32m      8\u001b[0m \u001b[0mlosses\u001b[0m \u001b[0;34m=\u001b[0m \u001b[0;34m[\u001b[0m\u001b[0;34m]\u001b[0m\u001b[0;34m\u001b[0m\u001b[0;34m\u001b[0m\u001b[0m\n",
      "\u001b[0;31mFileNotFoundError\u001b[0m: [Errno 2] No such file or directory: 'saved_models/CNN_first_try/loss.txt'"
     ]
    }
   ],
   "source": [
    "import pickle\n",
    "import matplotlib.pyplot as plt\n",
    "import numpy as np\n",
    "\n",
    "\n",
    "LOSS = open(\"saved_models/CNN_first_try/loss.txt\", 'r',)\n",
    "\n",
    "losses = []\n",
    "for loss in LOSS.readlines():\n",
    "    loss = loss.rstrip('\\n')\n",
    "    loss = float(loss)\n",
    "    losses.append(loss)\n",
    "\n",
    "epoch_count = range(1,len(losses)+1)\n",
    "\n",
    "\n",
    "coefficients2 = np.polyfit(epoch_count,losses,4)\n",
    "poly = np.poly1d(coefficients2)\n",
    "new_y = poly(epoch_count)\n",
    "\n",
    "\n",
    "plt.xlabel('#Rounds', fontsize=15)\n",
    "plt.ylabel('Loss', fontsize=15)\n",
    "\n",
    "plt.plot(epoch_count,losses)\n",
    "#plt.plot(epoch_count, new_y)\n",
    "plt.grid(True, which=\"both\")\n",
    "plt.title('loss CNN - first try')\n",
    "plt.yscale('log')\n",
    "plt.ylim((10e-7,10e-1))\n",
    "plt.Figure()\n",
    "plt.savefig('the_agent_gets_stuck_in_a_bad_local_minimum.png')"
   ]
  },
  {
   "cell_type": "code",
   "execution_count": null,
   "metadata": {},
   "outputs": [],
   "source": []
  }
 ],
 "metadata": {
  "kernelspec": {
   "display_name": "Python 3",
   "language": "python",
   "name": "python3"
  },
  "language_info": {
   "codemirror_mode": {
    "name": "ipython",
    "version": 3
   },
   "file_extension": ".py",
   "mimetype": "text/x-python",
   "name": "python",
   "nbconvert_exporter": "python",
   "pygments_lexer": "ipython3",
   "version": "3.7.6"
  }
 },
 "nbformat": 4,
 "nbformat_minor": 4
}
