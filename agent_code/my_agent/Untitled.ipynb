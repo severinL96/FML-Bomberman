{
 "cells": [
  {
   "cell_type": "code",
   "execution_count": null,
   "metadata": {},
   "outputs": [],
   "source": [
    "def reward_from_events(events):\n",
    "    \"\"\"\n",
    "    Arguments:\n",
    "        a list of event strings \n",
    "    Returns:\n",
    "        a reward corresponding to the events' value \n",
    "    \"\"\"\n",
    "    game_rewards = {\n",
    "        #Positive rewards\n",
    "        #e.COIN_FOUND: 0.1, # encourages exploration\n",
    "        e.COIN_COLLECTED: 20, \n",
    "        e.KILLED_OPPONENT: 10,\n",
    "        #e.SURVIVED_ROUND: 1, # encourages survival\n",
    "\n",
    "        #Move penaltys\n",
    "        e.MOVED_DOWN: -0.1, # encourages efficent movement\n",
    "        e.MOVED_LEFT: -0.1,\n",
    "        e.MOVED_RIGHT: -0.1,\n",
    "        e.MOVED_UP: -0.1,\n",
    "        e.WAITED: -0.1,\n",
    "        e.BOMB_DROPPED: -0.1,\n",
    "\n",
    "        #Stupid penaltys\n",
    "        e.INVALID_ACTION: -5, # encourages to not be stupid\n",
    "        e.GOT_KILLED: -10,\n",
    "        e.KILLED_SELF: -30\n",
    "    }\n",
    "    reward_sum = 0\n",
    "    for event in events:\n",
    "        if event in game_rewards:\n",
    "            reward_sum += game_rewards[event]\n",
    "   \n",
    "    return reward_sum\n"
   ]
  },
  {
   "cell_type": "code",
   "execution_count": 1,
   "metadata": {},
   "outputs": [
    {
     "name": "stdout",
     "output_type": "stream",
     "text": [
      "1.23\n"
     ]
    }
   ],
   "source": [
    "print(round(1.2345, 2))"
   ]
  },
  {
   "cell_type": "code",
   "execution_count": null,
   "metadata": {},
   "outputs": [],
   "source": []
  }
 ],
 "metadata": {
  "kernelspec": {
   "display_name": "Python 3",
   "language": "python",
   "name": "python3"
  },
  "language_info": {
   "codemirror_mode": {
    "name": "ipython",
    "version": 3
   },
   "file_extension": ".py",
   "mimetype": "text/x-python",
   "name": "python",
   "nbconvert_exporter": "python",
   "pygments_lexer": "ipython3",
   "version": "3.8.5"
  }
 },
 "nbformat": 4,
 "nbformat_minor": 4
}
